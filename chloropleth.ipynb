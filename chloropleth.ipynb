{
 "cells": [
  {
   "cell_type": "markdown",
   "metadata": {},
   "source": [
    "# Chloropleth visualization"
   ]
  },
  {
   "cell_type": "markdown",
   "metadata": {},
   "source": [
    "### Imports"
   ]
  },
  {
   "cell_type": "code",
   "execution_count": 1,
   "metadata": {},
   "outputs": [],
   "source": [
    "import cartopy.crs as ccrs\n",
    "import cartopy as ctpy\n",
    "import matplotlib.pyplot as plt\n",
    "\n",
    "from cartopy.feature import ShapelyFeature\n",
    "from matplotlib.colors import Normalize\n",
    "from matplotlib.colors import LinearSegmentedColormap\n",
    "from matplotlib.cm import coolwarm\n",
    "\n",
    "from read_data import *\n",
    "from create_product import *"
   ]
  },
  {
   "cell_type": "markdown",
   "metadata": {},
   "source": [
    "### Constants"
   ]
  },
  {
   "cell_type": "code",
   "execution_count": 2,
   "metadata": {},
   "outputs": [],
   "source": [
    "OUTPUT_PATH = \"out\""
   ]
  },
  {
   "cell_type": "markdown",
   "metadata": {},
   "source": [
    "### Loading COVID Data"
   ]
  },
  {
   "cell_type": "code",
   "execution_count": 3,
   "metadata": {
    "scrolled": true
   },
   "outputs": [
    {
     "name": "stdout",
     "output_type": "stream",
     "text": [
      "    iso                                              shape  1/22/20  1/23/20  \\\n",
      "0    AF  POLYGON ((66.52226562500002 37.348486328125, 6...        0        0   \n",
      "1    AL  POLYGON ((19.34238281250001 41.869091796875, 1...        0        0   \n",
      "2    DZ  POLYGON ((8.576562500000023 36.93720703125, 8....        0        0   \n",
      "3    AD  POLYGON ((1.7060546875 42.50332031249999, 1.67...        0        0   \n",
      "4    AO  (POLYGON ((13.07275390625 -4.634765625, 13.057...        0        0   \n",
      "..   ..                                                ...      ...      ...   \n",
      "185  VN  (POLYGON ((104.06396484375 10.3908203125, 104....        0        2   \n",
      "186  PS  (POLYGON ((34.47734375000002 31.58486328124999...        0        0   \n",
      "187  YE  (POLYGON ((53.08564453125001 16.648388671875, ...        0        0   \n",
      "188  ZM  POLYGON ((30.39609375000001 -15.64306640625, 3...        0        0   \n",
      "189  ZW  POLYGON ((31.28789062500002 -22.40205078125001...        0        0   \n",
      "\n",
      "     1/24/20  1/25/20  1/26/20  1/27/20  1/28/20  1/29/20  ...  2/28/21  \\\n",
      "0          0        0        0        0        0        0  ...      -38   \n",
      "1          0        0        0        0        0        0  ...      127   \n",
      "2          0        0        0        0        0        0  ...        6   \n",
      "3          0        0        0        0        0        0  ...        0   \n",
      "4          0        0        0        0        0        0  ...       16   \n",
      "..       ...      ...      ...      ...      ...      ...  ...      ...   \n",
      "185        0        0        0        0        0        0  ...      -16   \n",
      "186        0        0        0        0        0        0  ...      869   \n",
      "187        0        0        0        0        0        0  ...       13   \n",
      "188        0        0        0        0        0        0  ...     -567   \n",
      "189        0        0        0        0        0        0  ...      -45   \n",
      "\n",
      "     3/1/21  3/2/21  3/3/21  3/4/21  3/5/21  3/6/21  3/7/21  3/8/21  3/9/21  \n",
      "0         7      21      -1       2      49       6      -2       3      -7  \n",
      "1       104     113     -73      50       2      14     -40     -31    -281  \n",
      "2        23      28      11      14      30      31       9      20      25  \n",
      "3        -6      -7     -21      24       2       6      -4      -8      -4  \n",
      "4       -31      16     -58      13     -26      12      22      11     -15  \n",
      "..      ...     ...     ...     ...     ...     ...     ...     ...     ...  \n",
      "185       0       5       7     -16       6       7      11      12     -82  \n",
      "186     900     949     850     461     537     358     805     396     201  \n",
      "187      25      26      18      10      29      28      24      69      36  \n",
      "188    -128      73    -207     397      67     139      68    -552    -204  \n",
      "189    -218     -55    -378    -201    -103     -35     -18     -22     -17  \n",
      "\n",
      "[190 rows x 415 columns]\n"
     ]
    }
   ],
   "source": [
    "data, timesteps = get_derived_covid_active_change_global()\n",
    "\n",
    "print(data)"
   ]
  },
  {
   "cell_type": "markdown",
   "metadata": {},
   "source": [
    "### Cloropleth"
   ]
  },
  {
   "cell_type": "code",
   "execution_count": 75,
   "metadata": {},
   "outputs": [],
   "source": [
    "def get_data_max_val(data, timesteps):\n",
    "    max_val = 0\n",
    "    for t in timesteps:\n",
    "        col_max = data[t].max()\n",
    "        if col_max > max_val:\n",
    "            max_val= col_max\n",
    "    return max_val\n",
    "\n",
    "def get_data_min_val(data, timesteps):\n",
    "    min_val = 0\n",
    "    for t in timesteps:\n",
    "        col_min = data[t].min()\n",
    "        if col_min < min_val:\n",
    "            min_val = col_min\n",
    "    return min_val\n",
    "\n",
    "# https://stackoverflow.com/a/20528097/7759262\n",
    "def get_shifted_cmap(cmap, start=0, midpoint=0.5, stop=1.0):\n",
    "    cdict = {\n",
    "        'red': [],\n",
    "        'green': [],\n",
    "        'blue': [],\n",
    "        'alpha': []\n",
    "    }\n",
    "    reg_index = np.linspace(start, stop, 257)\n",
    "    shift_index = np.hstack([\n",
    "        np.linspace(0.0, midpoint, 128, endpoint=False), \n",
    "        np.linspace(midpoint, 1.0, 129, endpoint=True)\n",
    "    ])\n",
    "    for ri, si in zip(reg_index, shift_index):\n",
    "        r, g, b, a = cmap(ri)\n",
    "        cdict['red'].append((si, r, r))\n",
    "        cdict['green'].append((si, g, g))\n",
    "        cdict['blue'].append((si, b, b))\n",
    "        cdict['alpha'].append((si, a, a))\n",
    "    newcmap = LinearSegmentedColormap(\"newColormap\", cdict)\n",
    "    return newcmap\n",
    "\n",
    "def get_color(val, min_val, max_val):\n",
    "    n_levels = max_val-min_val\n",
    "    ctr = 1 - max_val / (max_val + abs(min_val))\n",
    "    val_norm = (val - min_val) / n_levels\n",
    "    cmap = get_shifted_cmap(coolwarm, midpoint=ctr)\n",
    "    return cmap(val_norm)\n",
    "\n",
    "def cloropleth(data, timesteps, step):\n",
    "    \"\"\"\n",
    "    Creates a cloropleth figure for the given timestep \"step\"\n",
    "    \"\"\"\n",
    "    time = timesteps[step]\n",
    "    shapes = data['shape']\n",
    "    vals = data[time]\n",
    "    max_vals = data[timesteps].max(axis=1)\n",
    "    min_vals = data[timesteps].min(axis=1)\n",
    "    \n",
    "    # Create the figure\n",
    "    fig = plt.figure(figsize=(16,8), dpi=90)\n",
    "    ax = plt.axes(projection=ccrs.PlateCarree())\n",
    "    ax.set_extent([-180,180,-90,90])\n",
    "    ax.coastlines()\n",
    "    \n",
    "    # This masks the ocean\n",
    "    ax.add_feature(ctpy.feature.OCEAN, zorder=99, edgecolor='k', color=\"white\")\n",
    "    ax.add_feature(ctpy.feature.BORDERS, zorder=99, edgecolor='black')\n",
    "    ax.add_feature(ctpy.feature.COASTLINE, zorder=99, edgecolor='black')\n",
    "    ax.set_global()\n",
    "        \n",
    "    # Add country coloring\n",
    "    for i in range(shapes.shape[0]):\n",
    "        shape = shapes[i]\n",
    "        val = vals[i]\n",
    "        max_val = max_vals[i]\n",
    "        min_val = min_vals[i]\n",
    "        color = get_color(val, min_val, max_val)\n",
    "        shape_feature = ShapelyFeature([shape], ccrs.PlateCarree(), facecolor=color)\n",
    "        ax.add_feature(shape_feature)\n",
    "    \n",
    "    plt.text(-170,78, time, backgroundcolor=\"black\", color=\"white\", fontsize=\"xx-large\", zorder=100, transform=ccrs.PlateCarree())\n",
    "\n",
    "    return fig"
   ]
  },
  {
   "cell_type": "markdown",
   "metadata": {},
   "source": [
    "### Generate sample for testing"
   ]
  },
  {
   "cell_type": "code",
   "execution_count": 84,
   "metadata": {},
   "outputs": [],
   "source": [
    "test_imgs = []\n",
    "test_timesteps = timesteps[-10:]\n",
    "for t in range(len(test_timesteps)):\n",
    "    fig = cloropleth(data, timesteps, t)\n",
    "    fig.savefig(f\"{OUTPUT_PATH}/chloropleth_test_{t}.png\", format='png')\n",
    "    img = plt_to_img(fig)\n",
    "    test_imgs.append(img)\n",
    "\n",
    "    # Preserve memory by removing figures. No need to retain them\n",
    "    plt.clf()\n",
    "    plt.close(fig)\n",
    "    \n",
    "imgs_to_video(test_imgs, f\"{OUTPUT_PATH}/chloropleth_test_ideo.avi\", framerate=1)"
   ]
  },
  {
   "cell_type": "markdown",
   "metadata": {},
   "source": [
    "### Generate images"
   ]
  },
  {
   "cell_type": "code",
   "execution_count": 85,
   "metadata": {},
   "outputs": [],
   "source": [
    "imgs = []\n",
    "for t in range(len(timesteps)):\n",
    "    fig = cloropleth(data, timesteps, t)\n",
    "    fig.savefig(f\"{OUTPUT_PATH}/chloropleth_{t}.png\", format='png')\n",
    "    img = plt_to_img(fig)\n",
    "    imgs.append(img)\n",
    "\n",
    "    # Preserve memory by removing figures. No need to retain them\n",
    "    plt.clf()\n",
    "    plt.close(fig)"
   ]
  },
  {
   "cell_type": "markdown",
   "metadata": {},
   "source": [
    "### Generate video"
   ]
  },
  {
   "cell_type": "code",
   "execution_count": 1,
   "metadata": {},
   "outputs": [
    {
     "ename": "NameError",
     "evalue": "name 'imgs_to_video' is not defined",
     "output_type": "error",
     "traceback": [
      "\u001b[0;31m---------------------------------------------------------------------------\u001b[0m",
      "\u001b[0;31mNameError\u001b[0m                                 Traceback (most recent call last)",
      "\u001b[0;32m<ipython-input-1-4c3eb75c3adb>\u001b[0m in \u001b[0;36m<module>\u001b[0;34m\u001b[0m\n\u001b[0;32m----> 1\u001b[0;31m \u001b[0mimgs_to_video\u001b[0m\u001b[0;34m(\u001b[0m\u001b[0mimgs\u001b[0m\u001b[0;34m,\u001b[0m \u001b[0;34mf\"{OUTPUT_PATH}/chloropleth_video.avi\"\u001b[0m\u001b[0;34m,\u001b[0m \u001b[0mframerate\u001b[0m\u001b[0;34m=\u001b[0m\u001b[0;36m15\u001b[0m\u001b[0;34m)\u001b[0m\u001b[0;34m\u001b[0m\u001b[0;34m\u001b[0m\u001b[0m\n\u001b[0m",
      "\u001b[0;31mNameError\u001b[0m: name 'imgs_to_video' is not defined"
     ]
    }
   ],
   "source": [
    "imgs_to_video(imgs, f\"{OUTPUT_PATH}/chloropleth_video.avi\", framerate=15)"
   ]
  },
  {
   "cell_type": "code",
   "execution_count": null,
   "metadata": {},
   "outputs": [],
   "source": []
  }
 ],
 "metadata": {
  "kernelspec": {
   "display_name": "sci_vis_project",
   "language": "python",
   "name": "sci_vis_project"
  },
  "language_info": {
   "codemirror_mode": {
    "name": "ipython",
    "version": 3
   },
   "file_extension": ".py",
   "mimetype": "text/x-python",
   "name": "python",
   "nbconvert_exporter": "python",
   "pygments_lexer": "ipython3",
   "version": "3.9.2"
  }
 },
 "nbformat": 4,
 "nbformat_minor": 4
}
