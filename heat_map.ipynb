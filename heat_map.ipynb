{
 "cells": [
  {
   "cell_type": "markdown",
   "metadata": {},
   "source": [
    "# Heat map visualization"
   ]
  },
  {
   "cell_type": "markdown",
   "metadata": {},
   "source": [
    "### Imports"
   ]
  },
  {
   "cell_type": "code",
   "execution_count": 1,
   "metadata": {},
   "outputs": [],
   "source": [
    "import cartopy.crs as ccrs\n",
    "import cartopy.feature as cfeature\n",
    "import cartopy as ctpy\n",
    "import matplotlib.pyplot as plt\n",
    "\n",
    "from read_data import *\n",
    "from create_product import *"
   ]
  },
  {
   "cell_type": "markdown",
   "metadata": {},
   "source": [
    "### Constants"
   ]
  },
  {
   "cell_type": "code",
   "execution_count": 2,
   "metadata": {},
   "outputs": [],
   "source": [
    "OUTPUT_PATH = \"out\""
   ]
  },
  {
   "cell_type": "markdown",
   "metadata": {},
   "source": [
    "### Loading COVID Data"
   ]
  },
  {
   "cell_type": "code",
   "execution_count": 3,
   "metadata": {
    "scrolled": true
   },
   "outputs": [
    {
     "name": "stdout",
     "output_type": "stream",
     "text": [
      "    Province/State      Country/Region        Lat        Long  1/22/20  \\\n",
      "0              NaN         Afghanistan  33.939110   67.709953        0   \n",
      "1              NaN             Albania  41.153300   20.168300        0   \n",
      "2              NaN             Algeria  28.033900    1.659600        0   \n",
      "3              NaN             Andorra  42.506300    1.521800        0   \n",
      "4              NaN              Angola -11.202700   17.873900        0   \n",
      "..             ...                 ...        ...         ...      ...   \n",
      "269            NaN             Vietnam  14.058324  108.277199        0   \n",
      "270            NaN  West Bank and Gaza  31.952200   35.233200        0   \n",
      "271            NaN               Yemen  15.552727   48.516388        0   \n",
      "272            NaN              Zambia -13.133897   27.849332        0   \n",
      "273            NaN            Zimbabwe -19.015438   29.154857        0   \n",
      "\n",
      "     1/23/20  1/24/20  1/25/20  1/26/20  1/27/20  ...  2/28/21  3/1/21  \\\n",
      "0          0        0        0        0        0  ...    55714   55733   \n",
      "1          0        0        0        0        0  ...   107167  107931   \n",
      "2          0        0        0        0        0  ...   113092  113255   \n",
      "3          0        0        0        0        0  ...    10866   10889   \n",
      "4          0        0        0        0        0  ...    20807   20854   \n",
      "..       ...      ...      ...      ...      ...  ...      ...     ...   \n",
      "269        2        2        2        2        2  ...     2448    2448   \n",
      "270        0        0        0        0        0  ...   183612  185336   \n",
      "271        0        0        0        0        0  ...     2285    2310   \n",
      "272        0        0        0        0        0  ...    78534   79002   \n",
      "273        0        0        0        0        0  ...    36089   36115   \n",
      "\n",
      "     3/2/21  3/3/21  3/4/21  3/5/21  3/6/21  3/7/21  3/8/21  3/9/21  \n",
      "0     55759   55770   55775   55827   55840   55847   55876   55876  \n",
      "1    108823  109674  110521  111301  112078  112897  113580  114209  \n",
      "2    113430  113593  113761  113948  114104  114234  114382  114543  \n",
      "3     10908   10948   10976   10998   11019   11042   11069   11089  \n",
      "4     20882   20923   20981   21026   21055   21086   21108   21114  \n",
      "..      ...     ...     ...     ...     ...     ...     ...     ...  \n",
      "269    2475    2482    2488    2494    2501    2512    2524    2526  \n",
      "270  187309  189326  191203  193029  194548  196812  198554  200382  \n",
      "271    2342    2363    2375    2411    2444    2473    2545    2586  \n",
      "272   79557   80090   80687   81341   82011   82421   82655   82897  \n",
      "273   36148   36179   36223   36248   36260   36271   36289   36321  \n",
      "\n",
      "[269 rows x 417 columns]\n"
     ]
    }
   ],
   "source": [
    "data, timesteps = get_covid_confirmed_global()\n",
    "\n",
    "print(data)"
   ]
  },
  {
   "cell_type": "markdown",
   "metadata": {},
   "source": [
    "### Confirmed cases heat map"
   ]
  },
  {
   "cell_type": "code",
   "execution_count": 4,
   "metadata": {},
   "outputs": [],
   "source": [
    "# https://scitools.org.uk/cartopy/docs/v0.13/matplotlib/advanced_plotting.html\n",
    "# https://blog.mapbox.com/visualizing-the-progression-of-the-2019-ncov-outbreak-66763eb59e79\n",
    "\n",
    "def create_world_mesh(lats, lons, vals, res=1.0):\n",
    "    \"\"\"\n",
    "    Creates a 2D mesh of the data contained in vals at the corresponding points in lats and lons\n",
    "    Optionally, \n",
    "    \n",
    "    Assumes lats, lons and vals are 1D arrays of the same size\n",
    "    \n",
    "    Res must be a multiple of 10. Other values are not guaranted to work! \n",
    "    x.0      - Lower resolution\n",
    "    1.0      - Country or large region\n",
    "    0.1      - Large city or district\n",
    "    0.01     - Town or village\n",
    "    0.001    - Neighborhood, street\n",
    "    0.0001   - Individual street, large buildings\n",
    "    0.00001  - Individual trees, houses\n",
    "    0.000001 - Individual humans\n",
    "    \"\"\"\n",
    "    \n",
    "    mesh_w = int(360/res)\n",
    "    mesh_h = int(180/res)\n",
    "    \n",
    "    lats_mesh = np.linspace(-90,90, mesh_h)\n",
    "    lons_mesh = np.linspace(-180,180, mesh_w)\n",
    "    \n",
    "    mesh = np.zeros((mesh_h, mesh_w))\n",
    "        \n",
    "    # Set all mesh values\n",
    "    for i in range(vals.shape[0]):\n",
    "        lat = lats.iloc[i]\n",
    "        lon = lons.iloc[i]\n",
    "        val = vals.iloc[i]\n",
    "        \n",
    "        mesh_lat = int(((lat+90.0)/180)*mesh_h)\n",
    "        mesh_lon = int(((lon+180.0)/360)*mesh_w)\n",
    "        mesh[mesh_lat, mesh_lon] += val\n",
    "    \n",
    "    return lats_mesh, lons_mesh, mesh\n",
    "\n",
    "\n",
    "def heat_map(data, timesteps, step, res=1.0):\n",
    "    \"\"\"\n",
    "    Creates a heatmap figure for the given timestep \"step\"\n",
    "    \"\"\"\n",
    "    \n",
    "    lats = data['Lat']\n",
    "    lons = data['Long']\n",
    "    time = timesteps[step]\n",
    "    vals = data[time]\n",
    "    lats_mesh, lons_mesh, val_mesh = create_world_mesh(lats, lons, vals, res=res)\n",
    "\n",
    "    # Create the figure\n",
    "    fig = plt.figure(figsize=(16,8), dpi=90)\n",
    "    ax = plt.axes(projection=ccrs.PlateCarree())\n",
    "    ax.set_extent([-180,180,-90,90])\n",
    "    ax.coastlines()\n",
    "    \n",
    "    # This masks the ocean\n",
    "    ax.add_feature(ctpy.feature.OCEAN, zorder=99, edgecolor='k', color=\"white\")\n",
    "    ax.add_feature(ctpy.feature.BORDERS, zorder=99, edgecolor='black')\n",
    "    ax.add_feature(ctpy.feature.COASTLINE, zorder=99, edgecolor='black')\n",
    "    ax.set_global()\n",
    "    \n",
    "    plt.contourf(lons_mesh, lats_mesh, val_mesh, 128, cmap='summer', transform=ccrs.PlateCarree())\n",
    "    plt.text(-170,78, time, backgroundcolor=\"black\", color=\"white\", fontsize=\"xx-large\", zorder=100, transform=ccrs.PlateCarree())\n",
    "\n",
    "    return fig"
   ]
  },
  {
   "cell_type": "markdown",
   "metadata": {},
   "source": [
    "### Generate sample for testing"
   ]
  },
  {
   "cell_type": "code",
   "execution_count": 6,
   "metadata": {},
   "outputs": [],
   "source": [
    "test_imgs = []\n",
    "test_timesteps = timesteps[-10:]\n",
    "for t in range(len(test_timesteps)):\n",
    "    fig = heat_map(data, test_timesteps, t, res=1.0)\n",
    "    fig.savefig(f\"{OUTPUT_PATH}/heat_map_test_{t}.png\", format='png')\n",
    "    img = plt_to_img(fig)\n",
    "    test_imgs.append(img)\n",
    "\n",
    "    # Preserve memory by removing figures. No need to retain them\n",
    "    plt.clf()\n",
    "    plt.close(fig)\n",
    "    \n",
    "imgs_to_video(test_imgs, f\"{OUTPUT_PATH}/heat_map_test_video.avi\", framerate=1)"
   ]
  },
  {
   "cell_type": "markdown",
   "metadata": {},
   "source": [
    "### Generate images"
   ]
  },
  {
   "cell_type": "code",
   "execution_count": 8,
   "metadata": {},
   "outputs": [],
   "source": [
    "imgs = []\n",
    "for t in range(len(timesteps)):\n",
    "    fig = heat_map(active_global_shape, active_global_timesteps, t, max_val)\n",
    "    fig.savefig(f\"{OUTPUT_PATH}/heat_map_{t}.png\", format='png')\n",
    "    img = plt_to_img(fig)\n",
    "    imgs.append(img)\n",
    "\n",
    "    # Preserve memory by removing figures. No need to retain them\n",
    "    plt.clf()\n",
    "    plt.close(fig)"
   ]
  },
  {
   "cell_type": "markdown",
   "metadata": {},
   "source": [
    "### Generate video"
   ]
  },
  {
   "cell_type": "code",
   "execution_count": 9,
   "metadata": {},
   "outputs": [],
   "source": [
    "imgs_to_video(imgs, f\"{OUTPUT_PATH}/heat_map_video.avi\", framerate=15)"
   ]
  },
  {
   "cell_type": "code",
   "execution_count": null,
   "metadata": {},
   "outputs": [],
   "source": []
  }
 ],
 "metadata": {
  "kernelspec": {
   "display_name": "sci_vis_project",
   "language": "python",
   "name": "sci_vis_project"
  },
  "language_info": {
   "codemirror_mode": {
    "name": "ipython",
    "version": 3
   },
   "file_extension": ".py",
   "mimetype": "text/x-python",
   "name": "python",
   "nbconvert_exporter": "python",
   "pygments_lexer": "ipython3",
   "version": "3.9.2"
  }
 },
 "nbformat": 4,
 "nbformat_minor": 4
}
